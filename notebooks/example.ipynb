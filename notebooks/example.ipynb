{
 "cells": [
  {
   "cell_type": "markdown",
   "metadata": {},
   "source": [
    "# netherland model\n",
    "\n",
    "A netherland is a low-lying place. The netherlands model keeps track of salt marsh elevations in dynamic simulations. It receives exogenous input about erosion/deposition, and vegetation at specific locations on marsh during descrete timesteps. It input is used to below ground biomass production, decomposition and accretion. These outputs are feed back into dynamic vegitation and morphodynamic models.\n",
    "\n",
    "This notebook shows the basic set-up and compute process for the netherland model."
   ]
  },
  {
   "cell_type": "code",
   "execution_count": 1,
   "metadata": {},
   "outputs": [],
   "source": [
    "import sys\n",
    "sys.path.append('..')\n",
    "\n",
    "from src.constants import Constants\n",
    "from src.core import factory, Core"
   ]
  },
  {
   "cell_type": "markdown",
   "metadata": {},
   "source": [
    "A .toml file containing constants for the simulation of a given sediment core is provided. The default is file, which shows the required format is: *morris_constants.toml*, located in this program's data directory."
   ]
  },
  {
   "cell_type": "markdown",
   "metadata": {},
   "source": [
    "The constants file is used to setup a set of functional tools used within the context of a simulation, and create a sediment core, with a single bottom layer. The sediment core is package's basic unit of analysis. It contains sediment layers - one per computational timestep, each layer contains a set of stock variables that record the amount of live biomass, organic labile, organic refractory and inorganic material present within the layer. "
   ]
  },
  {
   "cell_type": "code",
   "execution_count": 3,
   "metadata": {},
   "outputs": [
    {
     "data": {
      "text/plain": [
       "'Core(layers=[Layer(elevations=(0.0, -30.0), BIOMASS(stock=0.0), inanimate=[LABILE(stock=24.0), REFRACTORY(stock=6.0), INORGANIC(stock=5.1)])])'"
      ]
     },
     "execution_count": 3,
     "metadata": {},
     "output_type": "execute_result"
    }
   ],
   "source": [
    "core = factory(constants=Constants())\n",
    "core.to_string()"
   ]
  }
 ],
 "metadata": {
  "kernelspec": {
   "display_name": "Python 3",
   "language": "python",
   "name": "python3"
  },
  "language_info": {
   "codemirror_mode": {
    "name": "ipython",
    "version": 3
   },
   "file_extension": ".py",
   "mimetype": "text/x-python",
   "name": "python",
   "nbconvert_exporter": "python",
   "pygments_lexer": "ipython3",
   "version": "3.11.3"
  },
  "orig_nbformat": 4
 },
 "nbformat": 4,
 "nbformat_minor": 2
}
